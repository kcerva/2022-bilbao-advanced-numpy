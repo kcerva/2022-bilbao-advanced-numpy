{
 "cells": [
  {
   "cell_type": "markdown",
   "metadata": {
    "nteract": {
     "transient": {
      "deleting": false
     }
    }
   },
   "source": [
    "# ASPP 2021\n",
    "## Advanced Numpy Excercises Topic 3\n"
   ]
  },
  {
   "cell_type": "code",
   "execution_count": 1,
   "metadata": {
    "ExecuteTime": {
     "end_time": "2021-08-19T07:38:10.260671Z",
     "start_time": "2021-08-19T07:37:46.991561Z"
    },
    "execution": {
     "iopub.execute_input": "2021-07-27T13:08:16.848Z",
     "iopub.status.busy": "2021-07-27T13:08:16.842Z",
     "iopub.status.idle": "2021-07-27T13:08:16.857Z",
     "shell.execute_reply": "2021-07-27T13:08:16.861Z"
    },
    "jupyter": {
     "outputs_hidden": false,
     "source_hidden": false
    },
    "nteract": {
     "transient": {
      "deleting": false
     }
    }
   },
   "outputs": [],
   "source": [
    "# Make sure that plots are displayed in the notebook\n",
    "%matplotlib inline\n",
    "\n",
    "# plotting library\n",
    "from matplotlib import pyplot as plt\n",
    "# for obvious reasons\n",
    "import numpy as np\n",
    "# statistics\n",
    "import scipy.stats as stats\n",
    "\n",
    "# a plotting function we'll use in the notebook\n",
    "from plot_data import plot_data\n",
    "# a small number of handy tools that may be useful for these exercises\n",
    "import tools\n",
    "\n",
    "# if you get stuck, try hints.gimme(exersize_nr)\n",
    "import hints \n"
   ]
  },
  {
   "cell_type": "markdown",
   "metadata": {
    "nteract": {
     "transient": {
      "deleting": false
     }
    }
   },
   "source": [
    "Let's generate some data to play with"
   ]
  },
  {
   "cell_type": "code",
   "execution_count": 2,
   "metadata": {
    "ExecuteTime": {
     "end_time": "2021-08-19T07:42:09.347834Z",
     "start_time": "2021-08-19T07:42:09.339399Z"
    },
    "execution": {
     "iopub.execute_input": "2021-07-27T13:08:17.354Z",
     "iopub.status.busy": "2021-07-27T13:08:17.350Z",
     "iopub.status.idle": "2021-07-27T13:08:17.363Z",
     "shell.execute_reply": "2021-07-27T13:08:17.367Z"
    },
    "jupyter": {
     "outputs_hidden": false,
     "source_hidden": false
    },
    "nteract": {
     "transient": {
      "deleting": false
     }
    }
   },
   "outputs": [],
   "source": [
    "subj_mean = np.array([[2,3], [3,2], [15,1], [-12, 5]])\n",
    "n_samples=50\n",
    "data = np.zeros((len(subj_mean),n_samples))\n",
    "for i,m in enumerate(subj_mean):\n",
    "  distr = stats.norm(m[0],[m[1]])\n",
    "  data[i,:] = distr.rvs(n_samples)"
   ]
  },
  {
   "cell_type": "markdown",
   "metadata": {
    "nteract": {
     "transient": {
      "deleting": false
     }
    }
   },
   "source": [
    "Each row is populated with one subject's datapoints. There are 5 subjects and we have 50 data points for each of them."
   ]
  },
  {
   "cell_type": "code",
   "execution_count": 3,
   "metadata": {
    "ExecuteTime": {
     "end_time": "2021-08-19T07:42:10.980582Z",
     "start_time": "2021-08-19T07:42:10.009505Z"
    },
    "execution": {
     "iopub.execute_input": "2021-07-27T13:09:00.668Z",
     "iopub.status.busy": "2021-07-27T13:09:00.645Z",
     "iopub.status.idle": "2021-07-27T13:09:01.051Z",
     "shell.execute_reply": "2021-07-27T13:09:01.058Z"
    },
    "jupyter": {
     "outputs_hidden": false,
     "source_hidden": false
    },
    "nteract": {
     "transient": {
      "deleting": false
     }
    }
   },
   "outputs": [
    {
     "name": "stderr",
     "output_type": "stream",
     "text": [
      "/home/student/Documents/day1/2022-bilbao-advanced-numpy/hands_on/plot_data.py:23: UserWarning: marker is redundantly defined by the 'marker' keyword argument and the fmt string \"o\" (-> marker='o'). The keyword argument will take precedence.\n",
      "  ax[2].errorbar(1, data.mean(), yerr=data.std(), capsize=4, ecolor=\"black\", fmt='o', marker='s', mfc='yellow', mec='black', ms=20, mew=4)\n"
     ]
    },
    {
     "name": "stdout",
     "output_type": "stream",
     "text": [
      "9.83241813249614\n"
     ]
    },
    {
     "data": {
      "image/png": "[encoded data removed]",
      "text/plain": [
       "<Figure size 720x360 with 3 Axes>"
      ]
     },
     "metadata": {
      "needs_background": "light"
     },
     "output_type": "display_data"
    }
   ],
   "source": [
    "fig, ax = plot_data(data)\n",
    "fig.savefig(\"cosineau_problem.png\", transparent=True)\n",
    "print(data.std())"
   ]
  },
  {
   "cell_type": "markdown",
   "metadata": {
    "nteract": {
     "transient": {
      "deleting": false
     }
    }
   },
   "source": [
    "**3.1** The procedure to find the Cosineau variance is as follows:\n",
    "\n",
    "1. Calculate the mean for each subject \n",
    "2. Calculate the overall mean across subjects\n",
    "3. Subtract each subject's mean from all of theirs data points\n",
    "4. Add the overall mean to each data point\n",
    "5. Compute the variance of the transformed data\n",
    "\n",
    "The `np.mean` function can take an argument `axis`. Use it to specify whether you want column or row means. \n",
    "\n",
    "Calculate the Cosineau variance without using a for loops, and visualize it.\n"
   ]
  },
  {
   "cell_type": "code",
   "execution_count": 18,
   "metadata": {
    "ExecuteTime": {
     "end_time": "2021-08-19T07:42:17.361022Z",
     "start_time": "2021-08-19T07:42:17.355885Z"
    },
    "execution": {
     "iopub.execute_input": "2021-07-27T12:37:32.428Z",
     "iopub.status.busy": "2021-07-27T12:37:32.424Z",
     "iopub.status.idle": "2021-07-27T12:37:32.439Z",
     "shell.execute_reply": "2021-07-27T12:37:32.443Z"
    },
    "jupyter": {
     "outputs_hidden": false,
     "source_hidden": false
    },
    "nteract": {
     "transient": {
      "deleting": false
     }
    }
   },
   "outputs": [],
   "source": [
    "# Solution Cell\n",
    "subj_mean = np.mean(data, axis = 1)\n",
    "all_mean = np.mean(subj_mean)\n",
    "\n",
    "subj_minus_mean = data.T - subj_mean\n",
    "subj_plus_all_mean = subj_minus_mean + all_mean\n",
    "\n",
    "var_extra_data = np.ndarray.var(subj_plus_all_mean)"
   ]
  },
  {
   "cell_type": "code",
   "execution_count": 19,
   "metadata": {
    "scrolled": true
   },
   "outputs": [
    {
     "data": {
      "text/plain": [
       "10.033371786630152"
      ]
     },
     "execution_count": 19,
     "metadata": {},
     "output_type": "execute_result"
    }
   ],
   "source": [
    "var_extra_data"
   ]
  },
  {
   "cell_type": "code",
   "execution_count": 24,
   "metadata": {
    "jupyter": {
     "outputs_hidden": false,
     "source_hidden": false
    },
    "nteract": {
     "transient": {
      "deleting": false
     }
    }
   },
   "outputs": [
    {
     "data": {
      "text/plain": [
       "(<Figure size 720x360 with 3 Axes>,\n",
       " array([<AxesSubplot:title={'center':'subject data'}>,\n",
       "        <AxesSubplot:title={'center':'error by subject'}>,\n",
       "        <AxesSubplot:title={'center':'overall error bar'}>], dtype=object))"
      ]
     },
     "execution_count": 24,
     "metadata": {},
     "output_type": "execute_result"
    },
    {
     "data": {
      "image/png": "[encoded data removed]",
      "text/plain": [
       "<Figure size 720x360 with 3 Axes>"
      ]
     },
     "metadata": {
      "needs_background": "light"
     },
     "output_type": "display_data"
    }
   ],
   "source": [
    "plot_data(subj_plus_all_mean.T)"
   ]
  },
  {
   "cell_type": "code",
   "execution_count": 23,
   "metadata": {},
   "outputs": [
    {
     "data": {
      "text/plain": [
       "(50, 4)"
      ]
     },
     "execution_count": 23,
     "metadata": {},
     "output_type": "execute_result"
    }
   ],
   "source": [
    "subj_plus_all_mean.shape"
   ]
  },
  {
   "cell_type": "code",
   "execution_count": 25,
   "metadata": {},
   "outputs": [
    {
     "ename": "ZeroDivisionError",
     "evalue": "division by zero",
     "output_type": "error",
     "traceback": [
      "\u001b[0;31m---------------------------------------------------------------------------\u001b[0m",
      "\u001b[0;31mZeroDivisionError\u001b[0m                         Traceback (most recent call last)",
      "Input \u001b[0;32mIn [25]\u001b[0m, in \u001b[0;36m<cell line: 1>\u001b[0;34m()\u001b[0m\n\u001b[0;32m----> 1\u001b[0m \u001b[38;5;241m1\u001b[39m\u001b[38;5;241m/\u001b[39m\u001b[38;5;241m0\u001b[39m\n",
      "\u001b[0;31mZeroDivisionError\u001b[0m: division by zero"
     ]
    }
   ],
   "source": [
    "1/0"
   ]
  },
  {
   "cell_type": "code",
   "execution_count": null,
   "metadata": {},
   "outputs": [],
   "source": []
  }
 ],
 "metadata": {
  "hide_input": false,
  "kernel_info": {
   "name": "scenewalk"
  },
  "kernelspec": {
   "display_name": "Python 3 (ipykernel)",
   "language": "python",
   "name": "python3"
  },
  "language_info": {
   "codemirror_mode": {
    "name": "ipython",
    "version": 3
   },
   "file_extension": ".py",
   "mimetype": "text/x-python",
   "name": "python",
   "nbconvert_exporter": "python",
   "pygments_lexer": "ipython3",
   "version": "3.10.6"
  },
  "nteract": {
   "version": "0.28.0"
  },
  "toc": {
   "nav_menu": {
    "height": "48px",
    "width": "252px"
   },
   "navigate_menu": true,
   "number_sections": true,
   "sideBar": true,
   "threshold": 4,
   "toc_cell": false,
   "toc_section_display": "block",
   "toc_window_display": false
  }
 },
 "nbformat": 4,
 "nbformat_minor": 1
}
